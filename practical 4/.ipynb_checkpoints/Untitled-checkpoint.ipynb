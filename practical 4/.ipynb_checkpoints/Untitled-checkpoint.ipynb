{
 "cells": [
  {
   "cell_type": "code",
   "execution_count": 5,
   "metadata": {
    "collapsed": true
   },
   "outputs": [],
   "source": [
    "import numpy.random as npr\n",
    "import numpy as np\n",
    "import sys\n",
    "import cPickle as pickle\n",
    "import math\n",
    "import matplotlib.pyplot as plt\n",
    "%matplotlib inline"
   ]
  },
  {
   "cell_type": "code",
   "execution_count": 3,
   "metadata": {
    "collapsed": false
   },
   "outputs": [],
   "source": [
    "record = pickle.load(open('record.p','rb'))"
   ]
  },
  {
   "cell_type": "code",
   "execution_count": 13,
   "metadata": {
    "collapsed": true
   },
   "outputs": [],
   "source": [
    "group = [[5,5,3], [10, 10, 3], [10, 10, 5], [5, 5, 5]]\n",
    "colors = ['r', 'b', 'g', 'yellow']"
   ]
  },
  {
   "cell_type": "code",
   "execution_count": 15,
   "metadata": {
    "collapsed": false
   },
   "outputs": [
    {
     "data": {
      "image/png": "[encoded data removed]",
      "text/plain": [
       "<matplotlib.figure.Figure at 0x402d898>"
      ]
     },
     "metadata": {},
     "output_type": "display_data"
    }
   ],
   "source": [
    "for i in xrange(len(group)):\n",
    "    plt.plot(record[i], label='Group %d'%(i+1), color = colors[i])\n",
    "    plt.title('Score per Epoch')\n",
    "    plt.xlabel('Epoch')\n",
    "    plt.ylabel('Score')\n",
    "    plt.legend()"
   ]
  },
  {
   "cell_type": "code",
   "execution_count": 4,
   "metadata": {
    "collapsed": false
   },
   "outputs": [
    {
     "data": {
      "text/plain": [
       "array([[   0.,    0.,    1.,    2.,   15.,   16.,    3.,    4.,   34.,\n",
       "           0.,    0.,    1.,    0.,    2.,    0.,    1.,    0.,    1.,\n",
       "           0.,    0.,    0.,    1.,    2.,    2.,    0.,    6.,    0.,\n",
       "           0.,    2.,    2.,    7.,    3.,    3.,    1.,    1.,    1.,\n",
       "           0.,    1.,    1.,    0.,    0.,    0.,    0.,    0.,    0.,\n",
       "           0.,    0.,    0.,    0.,    0.,    1.,    1.,    0.,    0.,\n",
       "           1.,    0.,    0.,    0.,    0.,    0.,    0.,    0.,    0.,\n",
       "           0.,    0.,    0.,    0.,    0.,    0.,    0.,    0.,    0.,\n",
       "           0.,    0.,    0.,    0.,    0.,    0.,    0.,    0.,    0.,\n",
       "           1.,    0.,    0.,    0.,    0.,    1.,    0.,    0.,    0.,\n",
       "           0.,    1.,    1.,   25.,    4.,    0.,    3.,    0.,    0.,\n",
       "           0.],\n",
       "       [   0.,    0.,    0.,    0.,    0.,    4.,    2.,    1.,    4.,\n",
       "           5.,    2.,    2.,    7.,    0.,   12.,    0.,    1.,    4.,\n",
       "           1.,    1.,    4.,   10.,    1.,    8.,    3.,   12.,    0.,\n",
       "           8.,    9.,    0.,    0.,    1.,    1.,    0.,    0.,    9.,\n",
       "           0.,    7.,    0.,    9.,    2.,    0.,    5.,    0.,    0.,\n",
       "           0.,    3.,    2.,    1.,    3.,    2.,    1.,    1.,    1.,\n",
       "           0.,    1.,    8.,    3.,    0.,    1.,    1.,    0.,    0.,\n",
       "           0.,    0.,    0.,    0.,    2.,    2.,    1.,    1.,    2.,\n",
       "           0.,    0.,    0.,    1.,    1.,    1.,    0.,    2.,    0.,\n",
       "           1.,    0.,    0.,    2.,    0.,    1.,    1.,    0.,    0.,\n",
       "           0.,    0.,    4.,    0.,    0.,    1.,    0.,    0.,    9.,\n",
       "           6.],\n",
       "       [   0.,    0.,    0.,    1.,    1.,    1.,    3.,    1.,    0.,\n",
       "           3.,    2.,    6.,    1.,    4.,    4.,   10.,    3.,    5.,\n",
       "           9.,   40.,  220.,   53.,   56.,   30.,   15.,    5.,   41.,\n",
       "          33.,   36.,    7.,    1.,    1.,    2.,   11.,    9.,   17.,\n",
       "           6.,   30.,    1.,    0.,    0.,    2.,    3.,    6.,    6.,\n",
       "           0.,    1.,   14.,   14.,   22.,    9.,    8.,    1.,    1.,\n",
       "           3.,   13.,    0.,    0.,    0.,    2.,    2.,    0.,    0.,\n",
       "           3.,    2.,    5.,    5.,    1.,    0.,    4.,    7.,    2.,\n",
       "           2.,    0.,    8.,   10.,    3.,    0.,    0.,    1.,    6.,\n",
       "           3.,    0.,    6.,    0.,    3.,   11.,    0.,    4.,    1.,\n",
       "           1.,    1.,    0.,    1.,    1.,    1.,    1.,    0.,    1.,\n",
       "           0.],\n",
       "       [   0.,    0.,    1.,    5.,    1.,    1.,    2.,    3.,   30.,\n",
       "          18.,   69.,   20.,   18.,   18.,    5.,    0.,    3.,    0.,\n",
       "           0.,    0.,    0.,    0.,    0.,    1.,    1.,    1.,    1.,\n",
       "           4.,    1.,    0.,    1.,    1.,    0.,    3.,    1.,    1.,\n",
       "           1.,    1.,    4.,    0.,    4.,    0.,    0.,    0.,    0.,\n",
       "           0.,    1.,    0.,    0.,    0.,    0.,    0.,    0.,    0.,\n",
       "           0.,    0.,    0.,    0.,    1.,    1.,    0.,    2.,    2.,\n",
       "           0.,    1.,    5.,    0.,    0.,    0.,    4.,    0.,    3.,\n",
       "           0.,    3.,    0.,    0.,    9.,    0.,    0.,    4.,    6.,\n",
       "           1.,    2.,    0.,    0.,    6.,   18.,    0.,    3.,    5.,\n",
       "           1.,    4.,    9.,    1.,   11.,    3.,    6.,    0.,    1.,\n",
       "           0.]])"
      ]
     },
     "execution_count": 4,
     "metadata": {},
     "output_type": "execute_result"
    }
   ],
   "source": [
    "record"
   ]
  }
 ],
 "metadata": {
  "kernelspec": {
   "display_name": "Python 2",
   "language": "python",
   "name": "python2"
  },
  "language_info": {
   "codemirror_mode": {
    "name": "ipython",
    "version": 2
   },
   "file_extension": ".py",
   "mimetype": "text/x-python",
   "name": "python",
   "nbconvert_exporter": "python",
   "pygments_lexer": "ipython2",
   "version": "2.7.7"
  }
 },
 "nbformat": 4,
 "nbformat_minor": 0
}
