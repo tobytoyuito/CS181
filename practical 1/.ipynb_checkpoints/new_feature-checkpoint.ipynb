{
 "metadata": {
  "name": "",
  "signature": "sha256:b4286ef3dd61050a2f59266d900035b6e41949dfe775df08a82718b3b81c1ed2"
 },
 "nbformat": 3,
 "nbformat_minor": 0,
 "worksheets": []
}