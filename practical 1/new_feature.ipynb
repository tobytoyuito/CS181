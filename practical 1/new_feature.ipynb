{
 "metadata": {
  "name": "",
  "signature": "sha256:f7f8c86ea9820b4fe46ea41da560c7808abacf1911ec01e5cbd6bd88eacec3ec"
 },
 "nbformat": 3,
 "nbformat_minor": 0,
 "worksheets": [
  {
   "cells": [
    {
     "cell_type": "code",
     "collapsed": false,
     "input": [
      "import csv\n",
      "import gzip\n",
      "import numpy as np\n",
      "import pandas as pd\n",
      "import sklearn"
     ],
     "language": "python",
     "metadata": {},
     "outputs": [],
     "prompt_number": 3
    },
    {
     "cell_type": "code",
     "collapsed": false,
     "input": [
      "features = 'features1.csv'\n",
      "train_data = pd.read_csv(features)"
     ],
     "language": "python",
     "metadata": {},
     "outputs": [],
     "prompt_number": 52
    },
    {
     "cell_type": "code",
     "collapsed": false,
     "input": [
      "train_filename = 'train.csv.gz'\n",
      "test_filename  = 'test.csv.gz'\n",
      "pred_filename  = 'example_mean.csv'\n",
      "\n",
      "# Load the training file.\n",
      "X = []\n",
      "Y = []\n",
      "SMILE = []\n",
      "i = 100000\n",
      "with gzip.open(train_filename, 'r') as train_fh:\n",
      "\n",
      "    # Parse it as a CSV file.\n",
      "    train_csv = csv.reader(train_fh, delimiter=',', quotechar='\"')\n",
      "    \n",
      "    # Skip the header row.\n",
      "    next(train_csv, None)\n",
      "\n",
      "    # Load the data.\n",
      "    for row in train_csv:\n",
      "        i -= 1\n",
      "        smiles   = row[0]\n",
      "        features = np.array([float(x) for x in row[1:257]])\n",
      "        gap      = float(row[257])\n",
      "        \n",
      "        X.append(features)\n",
      "        Y.append(gap)\n",
      "        SMILE.append(smiles)\n",
      "        if(i==0):\n",
      "            break"
     ],
     "language": "python",
     "metadata": {},
     "outputs": [],
     "prompt_number": 6
    },
    {
     "cell_type": "code",
     "collapsed": false,
     "input": [
      "train_data = train_data[0:100000]"
     ],
     "language": "python",
     "metadata": {},
     "outputs": [],
     "prompt_number": 24
    },
    {
     "cell_type": "code",
     "collapsed": false,
     "input": [
      "train_data = train_data[[u'TPSA', u'MolLogP', u'MolWt', u'MolMR', u'HeavyAtomCount', u'HeavyAtomMolWt', u'NumHAcceptor', u'NumHDonors', u'RingCount', u'NumRotatableBonds']]"
     ],
     "language": "python",
     "metadata": {},
     "outputs": [],
     "prompt_number": 14
    },
    {
     "cell_type": "code",
     "collapsed": false,
     "input": [
      "train_data = train_data.values"
     ],
     "language": "python",
     "metadata": {},
     "outputs": [],
     "prompt_number": 17
    },
    {
     "cell_type": "code",
     "collapsed": false,
     "input": [
      "train_data.shape\n",
      "X = np.array(X)\n",
      "X_new = np.concatenate((X, train_data), axis =1)"
     ],
     "language": "python",
     "metadata": {},
     "outputs": [
      {
       "metadata": {},
       "output_type": "pyout",
       "prompt_number": 37,
       "text": [
        "(100000L, 10L)"
       ]
      }
     ],
     "prompt_number": 37
    },
    {
     "cell_type": "code",
     "collapsed": false,
     "input": [
      "X_new.shape"
     ],
     "language": "python",
     "metadata": {},
     "outputs": [
      {
       "metadata": {},
       "output_type": "pyout",
       "prompt_number": 43,
       "text": [
        "(100000L, 266L)"
       ]
      }
     ],
     "prompt_number": 43
    },
    {
     "cell_type": "code",
     "collapsed": false,
     "input": [
      "from sklearn import cross_validation\n",
      "x_train, x_test, y_train, y_test = cross_validation.train_test_split(X_new, Y, test_size=0.4, random_state=42)"
     ],
     "language": "python",
     "metadata": {},
     "outputs": [],
     "prompt_number": 44
    },
    {
     "cell_type": "code",
     "collapsed": false,
     "input": [
      "from sklearn import linear_model\n",
      "reg = linear_model.LinearRegression()\n",
      "reg.fit(x_train, y_train)"
     ],
     "language": "python",
     "metadata": {},
     "outputs": [
      {
       "metadata": {},
       "output_type": "pyout",
       "prompt_number": 45,
       "text": [
        "LinearRegression(copy_X=True, fit_intercept=True, normalize=False)"
       ]
      }
     ],
     "prompt_number": 45
    },
    {
     "cell_type": "code",
     "collapsed": false,
     "input": [
      "y_pred = reg.predict(x_test)\n",
      "print np.mean((y_test-y_pred)**2)**.5"
     ],
     "language": "python",
     "metadata": {},
     "outputs": [
      {
       "output_type": "stream",
       "stream": "stdout",
       "text": [
        "0.215422701825\n"
       ]
      }
     ],
     "prompt_number": 46
    },
    {
     "cell_type": "code",
     "collapsed": false,
     "input": [
      "ridge_reg = linear_model.Ridge(alpha = 0.00001)\n",
      "ridge_reg.fit(x_train, y_train)"
     ],
     "language": "python",
     "metadata": {},
     "outputs": [
      {
       "metadata": {},
       "output_type": "pyout",
       "prompt_number": 49,
       "text": [
        "Ridge(alpha=1e-05, copy_X=True, fit_intercept=True, max_iter=None,\n",
        "   normalize=False, solver='auto', tol=0.001)"
       ]
      }
     ],
     "prompt_number": 49
    },
    {
     "cell_type": "code",
     "collapsed": false,
     "input": [
      "y_pred = ridge_reg.predict(x_test)\n",
      "print np.mean((y_test-y_pred)**2)**.5"
     ],
     "language": "python",
     "metadata": {},
     "outputs": [
      {
       "output_type": "stream",
       "stream": "stdout",
       "text": [
        "0.215417441321\n"
       ]
      }
     ],
     "prompt_number": 50
    },
    {
     "cell_type": "code",
     "collapsed": false,
     "input": [
      "train"
     ],
     "language": "python",
     "metadata": {},
     "outputs": [
      {
       "metadata": {},
       "output_type": "pyout",
       "prompt_number": 51,
       "text": [
        "numpy.ndarray"
       ]
      }
     ],
     "prompt_number": 51
    },
    {
     "cell_type": "code",
     "collapsed": false,
     "input": [],
     "language": "python",
     "metadata": {},
     "outputs": []
    }
   ],
   "metadata": {}
  }
 ]
}