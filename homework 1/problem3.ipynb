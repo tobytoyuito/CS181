{
 "metadata": {
  "name": "",
  "signature": "sha256:5932d8579d47288b9a53361537269badc1b2fa61dd3745b96f4df4e690aabd58"
 },
 "nbformat": 3,
 "nbformat_minor": 0,
 "worksheets": [
  {
   "cells": [
    {
     "cell_type": "code",
     "collapsed": false,
     "input": [
      "import csv\n",
      "import numpy as np\n",
      "import pylab as pl\n",
      "#%matplotlib inline\n",
      "\n",
      "csv_filename = 'motorcycle.csv'\n",
      "\n",
      "times  = []\n",
      "forces = []\n",
      "with open(csv_filename, 'r') as csv_fh:\n",
      "\n",
      "    # Parse as a CSV file.\n",
      "    reader = csv.reader(csv_fh)\n",
      "\n",
      "    # Skip the header line.\n",
      "    next(reader, None)\n",
      "\n",
      "    # Loop over the file.\n",
      "    for row in reader:\n",
      "\n",
      "        # Store the data.\n",
      "        times.append(float(row[0]))\n",
      "        forces.append(float(row[1]))\n",
      "\n",
      "# Turn the data into numpy arrays.\n",
      "times  = np.array(times)\n",
      "forces = np.array(forces)"
     ],
     "language": "python",
     "metadata": {},
     "outputs": [],
     "prompt_number": 1
    },
    {
     "cell_type": "code",
     "collapsed": false,
     "input": [
      "# Plot the data.\n",
      "# pl.plot(times, forces, 'o')\n",
      "# pl.show()\n",
      "\n",
      "# Create the simplest basis, with just the time and an offset.\n",
      "X = np.vstack((np.ones(times.shape), times)).T\n",
      "\n",
      "# Nothing fancy for outputs.\n",
      "Y = forces\n",
      "\n",
      "# Find the regression weights using the Moore-Penrose pseudoinverse.\n",
      "w = np.linalg.solve(np.dot(X.T, X) , np.dot(X.T, Y))\n",
      "\n",
      "# Compute the regression line on a grid of inputs.\n",
      "grid_times = np.linspace(0, 60, 200)\n",
      "grid_X     = np.vstack((np.ones(grid_times.shape), grid_times))\n",
      "grid_Yhat  = np.dot(grid_X.T, w)\n",
      "\n",
      "# Plot the data and the regression line.\n",
      "pl.plot(times, forces, 'o',\n",
      "        grid_times, grid_Yhat, '-')\n",
      "pl.xlabel('time since impact(ms)')\n",
      "pl.ylabel('g-force on head')\n",
      "pl.title('Simple Regression Line')\n",
      "pl.show()"
     ],
     "language": "python",
     "metadata": {},
     "outputs": [],
     "prompt_number": 3
    },
    {
     "cell_type": "code",
     "collapsed": false,
     "input": [
      "#a\n",
      "# Create the simplest basis, with just the time and an offset.\n",
      "X = np.array([np.exp(-((times-10*j)/5)**2) for j in range(7)]).T\n",
      "\n",
      "# Nothing fancy for outputs.\n",
      "Y = forces\n",
      "\n",
      "# Find the regression weights using the Moore-Penrose pseudoinverse.\n",
      "w = np.linalg.solve(np.dot(X.T, X) , np.dot(X.T, Y))\n",
      "\n",
      "# Compute the regression line on a grid of inputs.\n",
      "grid_times = np.linspace(0, 60, 200)\n",
      "grid_X = np.array([np.exp(-((grid_times-10*j)/5)**2) for j in range(7)])\n",
      "grid_Yhat  = np.dot(grid_X.T, w)\n",
      "\n",
      "# Plot the data and the regression line.\n",
      "pl.plot(times, forces, 'o',\n",
      "        grid_times, grid_Yhat, '-')\n",
      "pl.xlabel('time since impact(ms)')\n",
      "pl.ylabel('g-force on head')\n",
      "pl.title('Basis(a) Regression Line')\n",
      "pl.show()"
     ],
     "language": "python",
     "metadata": {},
     "outputs": [],
     "prompt_number": 5
    },
    {
     "cell_type": "markdown",
     "metadata": {},
     "source": [
      "It slightly underfits the data. When the variance goes greater, the line does not follow the trend of the data point."
     ]
    },
    {
     "cell_type": "code",
     "collapsed": false,
     "input": [
      "#b\n",
      "# Create the simplest basis, with just the time and an offset.\n",
      "X = np.array([np.exp(-((times-10*j)/10)**2) for j in range(7)]).T\n",
      "\n",
      "# Nothing fancy for outputs.\n",
      "Y = forces\n",
      "\n",
      "# Find the regression weights using the Moore-Penrose pseudoinverse.\n",
      "w = np.linalg.solve(np.dot(X.T, X) , np.dot(X.T, Y))\n",
      "\n",
      "# Compute the regression line on a grid of inputs.\n",
      "grid_times = np.linspace(0, 60, 200)\n",
      "grid_X = np.array([np.exp(-((grid_times-10*j)/10)**2) for j in range(7)])\n",
      "grid_Yhat  = np.dot(grid_X.T, w)\n",
      "\n",
      "# Plot the data and the regression line.\n",
      "pl.plot(times, forces, 'o',\n",
      "        grid_times, grid_Yhat, '-')\n",
      "pl.xlabel('time since impact(ms)')\n",
      "pl.ylabel('g-force on head')\n",
      "pl.title('Basis(b) Regression Line')\n",
      "pl.show()"
     ],
     "language": "python",
     "metadata": {},
     "outputs": [],
     "prompt_number": 6
    },
    {
     "cell_type": "markdown",
     "metadata": {},
     "source": [
      "It overfits the data well. It follows the trend of the data except a little error at the beginning."
     ]
    },
    {
     "cell_type": "code",
     "collapsed": false,
     "input": [
      "#c\n",
      "# Create the simplest basis, with just the time and an offset.\n",
      "X = np.array([np.exp(-((times-10*j)/25)**2) for j in range(7)]).T\n",
      "\n",
      "# Nothing fancy for outputs.\n",
      "Y = forces\n",
      "\n",
      "# Find the regression weights using the Moore-Penrose pseudoinverse.\n",
      "w = np.linalg.solve(np.dot(X.T, X) , np.dot(X.T, Y))\n",
      "\n",
      "# Compute the regression line on a grid of inputs.\n",
      "grid_times = np.linspace(0, 60, 200)\n",
      "grid_X = np.array([np.exp(-((grid_times-10*j)/25)**2) for j in range(7)])\n",
      "grid_Yhat  = np.dot(grid_X.T, w)\n",
      "\n",
      "# Plot the data and the regression line.\n",
      "pl.plot(times, forces, 'o',\n",
      "        grid_times, grid_Yhat, '-')\n",
      "pl.xlabel('time since impact(ms)')\n",
      "pl.ylabel('g-force on head')\n",
      "pl.title('Basis(c) Regression Line')\n",
      "pl.show()"
     ],
     "language": "python",
     "metadata": {},
     "outputs": [],
     "prompt_number": 7
    },
    {
     "cell_type": "markdown",
     "metadata": {},
     "source": [
      "It overfits the data. There is a wrong curve at the beginning of the plot."
     ]
    },
    {
     "cell_type": "code",
     "collapsed": false,
     "input": [
      "#d\n",
      "# Create the simplest basis, with just the time and an offset.\n",
      "X = np.array([(times**j) for j in range(11)]).T\n",
      "\n",
      "# Nothing fancy for outputs.\n",
      "Y = forces\n",
      "\n",
      "# Find the regression weights using the Moore-Penrose pseudoinverse.\n",
      "w = np.linalg.solve(np.dot(X.T, X) , np.dot(X.T, Y))\n",
      "\n",
      "# Compute the regression line on a grid of inputs.\n",
      "grid_times = np.linspace(0, 60, 200)\n",
      "grid_X = np.array([(grid_times**j) for j in range(11)])\n",
      "grid_Yhat  = np.dot(grid_X.T, w)\n",
      "\n",
      "# Plot the data and the regression line.\n",
      "pl.plot(times, forces, 'o',\n",
      "        grid_times, grid_Yhat, '-')\n",
      "pl.xlabel('time since impact(ms)')\n",
      "pl.ylabel('g-force on head')\n",
      "pl.title('Basis(d) Regression Line')\n",
      "pl.show()"
     ],
     "language": "python",
     "metadata": {},
     "outputs": [],
     "prompt_number": 8
    },
    {
     "cell_type": "markdown",
     "metadata": {},
     "source": [
      "It overfits the data.Even though it follows the trend of the data, when input value goes out of the range of the original data, the dependent variable changes substantially."
     ]
    },
    {
     "cell_type": "code",
     "collapsed": false,
     "input": [
      "#e\n",
      "# Create the simplest basis, with just the time and an offset.\n",
      "X = [np.sin(times/j) for j in range(1,21)]\n",
      "X = np.vstack((np.ones(times.shape), X)).T\n",
      "\n",
      "# Nothing fancy for outputs.\n",
      "Y = forces\n",
      "\n",
      "# Find the regression weights using the Moore-Penrose pseudoinverse.\n",
      "w = np.linalg.solve(np.dot(X.T, X) , np.dot(X.T, Y))\n",
      "\n",
      "# Compute the regression line on a grid of inputs.\n",
      "grid_times = np.linspace(0, 60, 200)\n",
      "grid_X = [np.sin(grid_times/j) for j in range(1,21)]\n",
      "grid_X = np.vstack((np.ones(grid_times.shape), grid_X))\n",
      "grid_Yhat  = np.dot(grid_X.T, w)\n",
      "\n",
      "# Plot the data and the regression line.\n",
      "pl.plot(times, forces, 'o',\n",
      "        grid_times, grid_Yhat, '-')\n",
      "pl.xlabel('time since impact(ms)')\n",
      "pl.ylabel('g-force on head')\n",
      "pl.title('Basis(e) Regression Line')\n",
      "pl.show()"
     ],
     "language": "python",
     "metadata": {},
     "outputs": [],
     "prompt_number": 9
    },
    {
     "cell_type": "markdown",
     "metadata": {},
     "source": [
      "It overfits the data. When independent variable goes greater, the dependent variable suddenly rises substantially "
     ]
    }
   ],
   "metadata": {}
  }
 ]
}