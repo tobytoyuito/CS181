{
 "metadata": {
  "name": "",
  "signature": "sha256:60d7d23950f11e9b5b45b330d83c6f1d99eb6ce72490c9ed2f7881e6971d3272"
 },
 "nbformat": 3,
 "nbformat_minor": 0,
 "worksheets": [
  {
   "cells": [
    {
     "cell_type": "code",
     "collapsed": false,
     "input": [
      "import cvxopt\n",
      "import matplotlib"
     ],
     "language": "python",
     "metadata": {},
     "outputs": [],
     "prompt_number": 1
    },
    {
     "cell_type": "code",
     "collapsed": false,
     "input": [
      "import numpy as np\n",
      "import pandas as pd\n",
      "import seaborn\n",
      "import scipy\n",
      "%matplotlib inline\n",
      "import matplotlib.pyplot as plt"
     ],
     "language": "python",
     "metadata": {},
     "outputs": [],
     "prompt_number": 2
    },
    {
     "cell_type": "code",
     "collapsed": false,
     "input": [
      "fruits = pd.read_csv('fruit.csv')"
     ],
     "language": "python",
     "metadata": {},
     "outputs": [],
     "prompt_number": 3
    },
    {
     "cell_type": "code",
     "collapsed": false,
     "input": [
      "fruits.head()\n",
      "#1 apple\n",
      "#2 orange\n",
      "#3 lemmon"
     ],
     "language": "python",
     "metadata": {},
     "outputs": [
      {
       "html": [
        "<div style=\"max-height:1000px;max-width:1500px;overflow:auto;\">\n",
        "<table border=\"1\" class=\"dataframe\">\n",
        "  <thead>\n",
        "    <tr style=\"text-align: right;\">\n",
        "      <th></th>\n",
        "      <th>fruit</th>\n",
        "      <th>width</th>\n",
        "      <th>height</th>\n",
        "    </tr>\n",
        "  </thead>\n",
        "  <tbody>\n",
        "    <tr>\n",
        "      <th>0</th>\n",
        "      <td> 1</td>\n",
        "      <td> 8.4</td>\n",
        "      <td> 7.3</td>\n",
        "    </tr>\n",
        "    <tr>\n",
        "      <th>1</th>\n",
        "      <td> 1</td>\n",
        "      <td> 8.0</td>\n",
        "      <td> 6.8</td>\n",
        "    </tr>\n",
        "    <tr>\n",
        "      <th>2</th>\n",
        "      <td> 1</td>\n",
        "      <td> 7.4</td>\n",
        "      <td> 7.2</td>\n",
        "    </tr>\n",
        "    <tr>\n",
        "      <th>3</th>\n",
        "      <td> 1</td>\n",
        "      <td> 7.1</td>\n",
        "      <td> 7.8</td>\n",
        "    </tr>\n",
        "    <tr>\n",
        "      <th>4</th>\n",
        "      <td> 1</td>\n",
        "      <td> 7.4</td>\n",
        "      <td> 7.0</td>\n",
        "    </tr>\n",
        "  </tbody>\n",
        "</table>\n",
        "</div>"
       ],
       "metadata": {},
       "output_type": "pyout",
       "prompt_number": 4,
       "text": [
        "   fruit  width  height\n",
        "0      1    8.4     7.3\n",
        "1      1    8.0     6.8\n",
        "2      1    7.4     7.2\n",
        "3      1    7.1     7.8\n",
        "4      1    7.4     7.0"
       ]
      }
     ],
     "prompt_number": 4
    },
    {
     "cell_type": "code",
     "collapsed": false,
     "input": [
      "choose = fruits['fruit'].isin([1,3])\n",
      "T = [-1 if i==3 else 1 for i in fruits['fruit'][choose].tolist()]\n",
      "X = np.array(fruits[['width','height']][choose])"
     ],
     "language": "python",
     "metadata": {},
     "outputs": [],
     "prompt_number": 5
    },
    {
     "cell_type": "code",
     "collapsed": false,
     "input": [
      "from cvxopt import matrix\n",
      "from cvxopt import solvers"
     ],
     "language": "python",
     "metadata": {},
     "outputs": [],
     "prompt_number": 6
    },
    {
     "cell_type": "code",
     "collapsed": false,
     "input": [
      "# Origin\n",
      "P = matrix([[1.,0.,0.0],[0.,1.,0.0],[0.0,0.0,0.0]], tc='d')\n",
      "q = matrix([0.0, 0.0, 0.0])\n",
      "G = matrix(np.array([[-T[i]*X[i][0], -T[i]*X[i][1], -T[i]] for i in xrange(len(T))]), tc='d')\n",
      "h = matrix([-1 for i in xrange(len(T))], tc='d')"
     ],
     "language": "python",
     "metadata": {},
     "outputs": [],
     "prompt_number": 7
    },
    {
     "cell_type": "code",
     "collapsed": false,
     "input": [
      "# Construct the QP, invoke solver\n",
      "sol = solvers.qp(P,q,G,h)"
     ],
     "language": "python",
     "metadata": {},
     "outputs": [
      {
       "output_type": "stream",
       "stream": "stdout",
       "text": [
        "     pcost       dcost       gap    pres   dres\n",
        " 0:  5.1585e-01  1.3891e+01  9e+01  2e+00  6e+01\n",
        " 1:  4.5097e+00 -4.3146e+00  1e+01  2e-01  7e+00"
       ]
      },
      {
       "output_type": "stream",
       "stream": "stdout",
       "text": [
        "\n",
        " 2:  4.9024e+00  3.4888e+00  2e+00  2e-02  8e-01\n",
        " 3:  4.9676e+00  4.9253e+00  5e-02  5e-04  2e-02\n",
        " 4:  4.9671e+00  4.9667e+00  5e-04  5e-06  2e-04\n",
        " 5:  4.9671e+00  4.9671e+00  5e-06  5e-08  2e-06\n",
        " 6:  4.9671e+00  4.9671e+00  5e-08  5e-10  2e-08\n",
        "Optimal solution found.\n"
       ]
      }
     ],
     "prompt_number": 8
    },
    {
     "cell_type": "code",
     "collapsed": false,
     "input": [
      "# Extract optimal value and solution\n",
      "print sol['x'] # [7.13e-07, 5.00e+00]\n",
      "print sol['primal objective'] # 20.0000061731"
     ],
     "language": "python",
     "metadata": {},
     "outputs": [
      {
       "output_type": "stream",
       "stream": "stdout",
       "text": [
        "[ 2.70e+00]\n",
        "[-1.62e+00]\n",
        "[-5.54e+00]\n",
        "\n",
        "4.9671292919\n"
       ]
      }
     ],
     "prompt_number": 9
    },
    {
     "cell_type": "code",
     "collapsed": false,
     "input": [
      "w0, w1, b = sol['x']"
     ],
     "language": "python",
     "metadata": {},
     "outputs": [],
     "prompt_number": 10
    },
    {
     "cell_type": "code",
     "collapsed": false,
     "input": [
      "def classify(x, y):\n",
      "    tmp = w0*x+w1*y+b\n",
      "    if tmp>0:\n",
      "        return 0\n",
      "    else:\n",
      "        return 1\n",
      "\n",
      "v_c = np.vectorize(classify)"
     ],
     "language": "python",
     "metadata": {},
     "outputs": [],
     "prompt_number": 11
    },
    {
     "cell_type": "code",
     "collapsed": false,
     "input": [
      "x = np.linspace(5.5, 10, 500)\n",
      "y = np.linspace(3, 11, 500)\n",
      "xx, yy = np.meshgrid(x, y)\n",
      "label = v_c(xx, yy)"
     ],
     "language": "python",
     "metadata": {},
     "outputs": [],
     "prompt_number": 12
    },
    {
     "cell_type": "code",
     "collapsed": false,
     "input": [
      "# color map\n",
      "color = ['red', 'yellow']\n",
      "my_cmap = matplotlib.colors.ListedColormap(color)\n",
      "\n",
      "width = fruits['width'][choose]\n",
      "height = fruits['height'][choose]\n",
      "colors = ['gold' if i==3 else 'coral' for i in fruits['fruit'][choose].tolist()]\n",
      "\n",
      "plt.figure(figsize=(12, 10))\n",
      "plt.contourf(xx, yy, label, cmap = my_cmap)\n",
      "plt.scatter(width, height, s=80, c = colors)\n",
      "plt.xlim([5.5, 9.])\n",
      "plt.ylim([6,   11])\n",
      "plt.xlabel('Width', fontsize=15)\n",
      "plt.ylabel('Height', fontsize=15)\n",
      "plt.title('Primal SVM on Fruits', fontsize=16)\n",
      "plt.show()"
     ],
     "language": "python",
     "metadata": {},
     "outputs": [
      {
       "metadata": {},
       "output_type": "display_data",
       "png": "[encoded data removed]",
       "text": [
        "<matplotlib.figure.Figure at 0x24378e80>"
       ]
      }
     ],
     "prompt_number": 15
    },
    {
     "cell_type": "code",
     "collapsed": false,
     "input": [
      "# compute P\n",
      "tmp0 = np.array(T)*np.array(X).T[0]\n",
      "tmp1 = np.array(T)*np.array(X).T[1]\n",
      "tmp = np.vstack((tmp0,tmp1)).T\n",
      "P_tmp = tmp.dot(tmp.T)"
     ],
     "language": "python",
     "metadata": {},
     "outputs": [],
     "prompt_number": 26
    },
    {
     "cell_type": "code",
     "collapsed": false,
     "input": [
      "P_tmp"
     ],
     "language": "python",
     "metadata": {},
     "outputs": [
      {
       "metadata": {},
       "output_type": "pyout",
       "prompt_number": 28,
       "text": [
        "array([[ 123.85,  116.84,  114.72, ..., -108.69, -116.65, -110.37],\n",
        "       [ 116.84,  110.24,  108.16, ..., -102.28, -109.8 , -103.88],\n",
        "       [ 114.72,  108.16,  106.6 , ..., -101.98, -109.3 , -103.46],\n",
        "       ..., \n",
        "       [-108.69, -102.28, -101.98, ...,  100.42,  107.2 ,  101.6 ],\n",
        "       [-116.65, -109.8 , -109.3 , ...,  107.2 ,  114.5 ,  108.5 ],\n",
        "       [-110.37, -103.88, -103.46, ...,  101.6 ,  108.5 ,  102.82]])"
       ]
      }
     ],
     "prompt_number": 28
    },
    {
     "cell_type": "code",
     "collapsed": false,
     "input": [
      "# Dual\n",
      "P = matrix(P_tmp, tc='d')\n",
      "q = matrix([-1 for i in xrange(len(T))], tc='d')\n",
      "G = matrix(np.identity(len(T))*-1, tc='d')\n",
      "h = matrix([0 for i in xrange(len(T))], tc='d')\n",
      "A = matrix(np.array(T), tc='d').T\n",
      "b = matrix([0], tc='d')"
     ],
     "language": "python",
     "metadata": {},
     "outputs": [],
     "prompt_number": 35
    },
    {
     "cell_type": "code",
     "collapsed": false,
     "input": [
      "# Construct the QP, invoke solver\n",
      "sol1 = solvers.qp(P,q, G, h, A, b)"
     ],
     "language": "python",
     "metadata": {},
     "outputs": [
      {
       "output_type": "stream",
       "stream": "stdout",
       "text": [
        "     pcost       dcost       gap    pres   dres\n",
        " 0: -4.9179e+00 -9.8184e+00  9e+01  1e+01  2e+00\n",
        " 1: -4.9474e+00 -6.2730e+00  1e+01  1e+00  2e-01\n",
        " 2: -4.5865e+00 -5.1053e+00  2e+00  1e-01  2e-02\n",
        " 3: -4.9513e+00 -4.9726e+00  5e-02  3e-03  5e-04\n",
        " 4: -4.9670e+00 -4.9672e+00  5e-04  3e-05  5e-06\n",
        " 5: -4.9671e+00 -4.9671e+00  5e-06  3e-07  5e-08\n",
        " 6: -4.9671e+00 -4.9671e+00  5e-08  3e-09  5e-10\n",
        "Optimal solution found.\n"
       ]
      }
     ],
     "prompt_number": 36
    },
    {
     "cell_type": "code",
     "collapsed": false,
     "input": [
      "# Extract optimal value and solution\n",
      "print sol1['x'] # [7.13e-07, 5.00e+00]\n",
      "print sol1['primal objective'] # 20.0000061731"
     ],
     "language": "python",
     "metadata": {},
     "outputs": [
      {
       "output_type": "stream",
       "stream": "stdout",
       "text": [
        "[ 5.13e-10]\n",
        "[ 4.65e-10]\n",
        "[-2.19e-11]\n",
        "[ 4.97e+00]\n",
        "[-3.38e-11]\n",
        "[ 3.30e-09]\n",
        "[ 4.78e-09]\n",
        "[ 8.96e-10]\n",
        "[ 1.99e-09]\n",
        "[-5.87e-11]\n",
        "[ 8.76e-11]\n",
        "[-4.80e-11]\n",
        "[ 2.21e-10]\n",
        "[-3.35e-11]\n",
        "[-2.19e-11]\n",
        "[ 7.41e-11]\n",
        "[ 1.47e-10]\n",
        "[ 1.31e-11]\n",
        "[ 5.94e-10]\n",
        "[ 6.00e-11]\n",
        "[ 5.99e-11]\n",
        "[ 1.41e+00]\n",
        "[ 1.24e-10]\n",
        "[ 2.26e-09]\n",
        "[ 1.96e-10]\n",
        "[ 2.08e-10]\n",
        "[ 9.85e-11]\n",
        "[ 2.96e-09]\n",
        "[ 1.39e-10]\n",
        "[ 1.19e-11]\n",
        "[ 3.06e-11]\n",
        "[ 3.55e+00]\n",
        "[ 5.09e-11]\n",
        "[ 1.16e-09]\n",
        "[ 5.20e-10]\n",
        "\n",
        "-4.96712927563\n"
       ]
      }
     ],
     "prompt_number": 37
    },
    {
     "cell_type": "code",
     "collapsed": false,
     "input": [
      "alpha = np.array(sol1['x'])"
     ],
     "language": "python",
     "metadata": {},
     "outputs": [],
     "prompt_number": 38
    },
    {
     "cell_type": "code",
     "collapsed": false,
     "input": [
      "alpha"
     ],
     "language": "python",
     "metadata": {},
     "outputs": [
      {
       "metadata": {},
       "output_type": "pyout",
       "prompt_number": 39,
       "text": [
        "array([[  5.13311303e-10],\n",
        "       [  4.64740439e-10],\n",
        "       [ -2.18628294e-11],\n",
        "       [  4.96712927e+00],\n",
        "       [ -3.37950382e-11],\n",
        "       [  3.30069119e-09],\n",
        "       [  4.77744645e-09],\n",
        "       [  8.95565169e-10],\n",
        "       [  1.98879151e-09],\n",
        "       [ -5.86924203e-11],\n",
        "       [  8.75851371e-11],\n",
        "       [ -4.79752588e-11],\n",
        "       [  2.21348966e-10],\n",
        "       [ -3.34912896e-11],\n",
        "       [ -2.18628294e-11],\n",
        "       [  7.40671425e-11],\n",
        "       [  1.47387188e-10],\n",
        "       [  1.30859760e-11],\n",
        "       [  5.93805193e-10],\n",
        "       [  6.00143675e-11],\n",
        "       [  5.99339176e-11],\n",
        "       [  1.41222303e+00],\n",
        "       [  1.23791311e-10],\n",
        "       [  2.25798749e-09],\n",
        "       [  1.95851963e-10],\n",
        "       [  2.07619935e-10],\n",
        "       [  9.85481982e-11],\n",
        "       [  2.95727238e-09],\n",
        "       [  1.38942974e-10],\n",
        "       [  1.19383543e-11],\n",
        "       [  3.06376131e-11],\n",
        "       [  3.55490625e+00],\n",
        "       [  5.09398952e-11],\n",
        "       [  1.16019996e-09],\n",
        "       [  5.20355845e-10]])"
       ]
      }
     ],
     "prompt_number": 39
    },
    {
     "cell_type": "code",
     "collapsed": false,
     "input": [
      "support_vector = []\n",
      "for idx, val in enumerate(np.isclose(alpha, 0)):\n",
      "    if not val:\n",
      "        support_vector.append(idx)"
     ],
     "language": "python",
     "metadata": {},
     "outputs": [],
     "prompt_number": 178
    },
    {
     "cell_type": "code",
     "collapsed": false,
     "input": [
      "support_vector"
     ],
     "language": "python",
     "metadata": {},
     "outputs": [
      {
       "metadata": {},
       "output_type": "pyout",
       "prompt_number": 179,
       "text": [
        "[3, 18, 27]"
       ]
      }
     ],
     "prompt_number": 179
    },
    {
     "cell_type": "code",
     "collapsed": false,
     "input": [
      "w0, w1, b = 0.0, 0.0, 0.0\n",
      "for i in xrange(len(T)):\n",
      "    w0 +=T[i]*alpha[i]*X[i][0]\n",
      "    w1 +=T[i]*alpha[i]*X[i][1]\n",
      "    b +=T[i]*alpha[i]"
     ],
     "language": "python",
     "metadata": {},
     "outputs": [],
     "prompt_number": 141
    },
    {
     "cell_type": "code",
     "collapsed": false,
     "input": [
      "w0, w1, b"
     ],
     "language": "python",
     "metadata": {},
     "outputs": [
      {
       "metadata": {},
       "output_type": "pyout",
       "prompt_number": 180,
       "text": [
        "(2.7027027022813384, -1.621621622600455, <1x1 matrix, tc='d'>)"
       ]
      }
     ],
     "prompt_number": 180
    },
    {
     "cell_type": "code",
     "collapsed": false,
     "input": [
      "def classify(x, y):\n",
      "    tmp = w0*x+w1*y+b\n",
      "    if tmp>0:\n",
      "        return 0\n",
      "    else:\n",
      "        return 1\n",
      "\n",
      "v_c = np.vectorize(classify)"
     ],
     "language": "python",
     "metadata": {},
     "outputs": [],
     "prompt_number": 13
    },
    {
     "cell_type": "code",
     "collapsed": false,
     "input": [
      "support_vector = []\n",
      "for i in xrange(len(T)):\n",
      "    if np.isclose(T[i]*(w0*width.tolist()[i]+w1*height.tolist()[i]+b),1):\n",
      "        support_vector.append(i)"
     ],
     "language": "python",
     "metadata": {},
     "outputs": [],
     "prompt_number": 22
    },
    {
     "cell_type": "code",
     "collapsed": false,
     "input": [
      "x = np.linspace(5.5, 9, 500)\n",
      "y = np.linspace(6, 11, 500)\n",
      "xx, yy = np.meshgrid(x, y)\n",
      "label = v_c(xx, yy)"
     ],
     "language": "python",
     "metadata": {},
     "outputs": [],
     "prompt_number": 23
    },
    {
     "cell_type": "code",
     "collapsed": false,
     "input": [
      "size = [180 if i in support_vector else 80 for i in xrange(len(T))]"
     ],
     "language": "python",
     "metadata": {},
     "outputs": [],
     "prompt_number": 24
    },
    {
     "cell_type": "code",
     "collapsed": false,
     "input": [
      "# color map\n",
      "color = ['red', 'yellow']\n",
      "my_cmap = matplotlib.colors.ListedColormap(color)\n",
      "\n",
      "width = fruits['width'][choose]\n",
      "height = fruits['height'][choose]\n",
      "colors = ['gold' if i==3 else 'coral' for i in fruits['fruit'][choose].tolist()]\n",
      "\n",
      "plt.figure(figsize=(12, 10))\n",
      "plt.contourf(xx, yy, label, cmap = my_cmap)\n",
      "plt.scatter(width, height, s=size, c = colors)\n",
      "plt.plot(x, -w0/w1*x+X[support_vector[0]][1]+w0/w1*X[support_vector[0]][0])\n",
      "plt.plot(x, -w0/w1*x+X[support_vector[1]][1]+w0/w1*X[support_vector[1]][0])\n",
      "plt.xlim([5.5, 9.])\n",
      "plt.ylim([6,   11])\n",
      "plt.xlabel('Width', fontsize=15)\n",
      "plt.ylabel('Height', fontsize=15)\n",
      "plt.title('Primal SVM on Fruits', fontsize=16)\n",
      "plt.show()"
     ],
     "language": "python",
     "metadata": {},
     "outputs": [
      {
       "metadata": {},
       "output_type": "display_data",
       "png": "[encoded data removed]",
       "text": [
        "<matplotlib.figure.Figure at 0x2456c748>"
       ]
      }
     ],
     "prompt_number": 25
    },
    {
     "cell_type": "code",
     "collapsed": false,
     "input": [],
     "language": "python",
     "metadata": {},
     "outputs": []
    }
   ],
   "metadata": {}
  }
 ]
}