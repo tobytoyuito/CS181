{
 "metadata": {
  "name": "",
  "signature": "sha256:f29d3e06a97585c2a13f756f35dbe6ac786bdcc013aa39a1ffc706219b71c6b8"
 },
 "nbformat": 3,
 "nbformat_minor": 0,
 "worksheets": [
  {
   "cells": [
    {
     "cell_type": "code",
     "collapsed": false,
     "input": [
      "import cvxopt\n",
      "import matplotlib"
     ],
     "language": "python",
     "metadata": {},
     "outputs": [],
     "prompt_number": 51
    },
    {
     "cell_type": "code",
     "collapsed": false,
     "input": [
      "import numpy as np\n",
      "import pandas as pd\n",
      "import seaborn\n",
      "import scipy\n",
      "%matplotlib inline\n",
      "import matplotlib.pyplot as plt"
     ],
     "language": "python",
     "metadata": {},
     "outputs": [],
     "prompt_number": 2
    },
    {
     "cell_type": "code",
     "collapsed": false,
     "input": [
      "fruits = pd.read_csv('fruit.csv')"
     ],
     "language": "python",
     "metadata": {},
     "outputs": [],
     "prompt_number": 3
    },
    {
     "cell_type": "code",
     "collapsed": false,
     "input": [
      "fruits.head()\n",
      "#1 apple\n",
      "#2 orange\n",
      "#3 lemmon"
     ],
     "language": "python",
     "metadata": {},
     "outputs": [
      {
       "html": [
        "<div style=\"max-height:1000px;max-width:1500px;overflow:auto;\">\n",
        "<table border=\"1\" class=\"dataframe\">\n",
        "  <thead>\n",
        "    <tr style=\"text-align: right;\">\n",
        "      <th></th>\n",
        "      <th>fruit</th>\n",
        "      <th>width</th>\n",
        "      <th>height</th>\n",
        "    </tr>\n",
        "  </thead>\n",
        "  <tbody>\n",
        "    <tr>\n",
        "      <th>0</th>\n",
        "      <td> 1</td>\n",
        "      <td> 8.4</td>\n",
        "      <td> 7.3</td>\n",
        "    </tr>\n",
        "    <tr>\n",
        "      <th>1</th>\n",
        "      <td> 1</td>\n",
        "      <td> 8.0</td>\n",
        "      <td> 6.8</td>\n",
        "    </tr>\n",
        "    <tr>\n",
        "      <th>2</th>\n",
        "      <td> 1</td>\n",
        "      <td> 7.4</td>\n",
        "      <td> 7.2</td>\n",
        "    </tr>\n",
        "    <tr>\n",
        "      <th>3</th>\n",
        "      <td> 1</td>\n",
        "      <td> 7.1</td>\n",
        "      <td> 7.8</td>\n",
        "    </tr>\n",
        "    <tr>\n",
        "      <th>4</th>\n",
        "      <td> 1</td>\n",
        "      <td> 7.4</td>\n",
        "      <td> 7.0</td>\n",
        "    </tr>\n",
        "  </tbody>\n",
        "</table>\n",
        "</div>"
       ],
       "metadata": {},
       "output_type": "pyout",
       "prompt_number": 4,
       "text": [
        "   fruit  width  height\n",
        "0      1    8.4     7.3\n",
        "1      1    8.0     6.8\n",
        "2      1    7.4     7.2\n",
        "3      1    7.1     7.8\n",
        "4      1    7.4     7.0"
       ]
      }
     ],
     "prompt_number": 4
    },
    {
     "cell_type": "code",
     "collapsed": false,
     "input": [
      "choose = fruits['fruit'].isin([1,3])\n",
      "T = [-1 if i==3 else 1 for i in fruits['fruit'][choose].tolist()]\n",
      "X = np.array(fruits[['width','height']][choose])"
     ],
     "language": "python",
     "metadata": {},
     "outputs": [],
     "prompt_number": 149
    },
    {
     "cell_type": "code",
     "collapsed": false,
     "input": [
      "from cvxopt import matrix\n",
      "from cvxopt import solvers"
     ],
     "language": "python",
     "metadata": {},
     "outputs": [],
     "prompt_number": 21
    },
    {
     "cell_type": "code",
     "collapsed": false,
     "input": [
      "# Origin\n",
      "P = matrix([[1.,0.,0.0],[0.,1.,0.0],[0.0,0.0,0.0]], tc='d')\n",
      "q = matrix([0.0, 0.0, 0.0])\n",
      "G = matrix(np.array([[-T[i]*X[i][0], -T[i]*X[i][1], -T[i]] for i in xrange(len(T))]), tc='d')\n",
      "h = matrix([-1 for i in xrange(len(T))], tc='d')"
     ],
     "language": "python",
     "metadata": {},
     "outputs": [],
     "prompt_number": 160
    },
    {
     "cell_type": "code",
     "collapsed": false,
     "input": [
      "# Construct the QP, invoke solver\n",
      "sol = solvers.qp(P,q,G,h)"
     ],
     "language": "python",
     "metadata": {},
     "outputs": [
      {
       "output_type": "stream",
       "stream": "stdout",
       "text": [
        "     pcost       dcost       gap    pres   dres\n",
        " 0:  5.1585e-01  1.3891e+01  9e+01  2e+00  6e+01\n",
        " 1:  4.5097e+00 -4.3146e+00  1e+01  2e-01  7e+00\n",
        " 2:  4.9024e+00  3.4888e+00  2e+00  2e-02  8e-01\n",
        " 3:  4.9676e+00  4.9253e+00  5e-02  5e-04  2e-02\n",
        " 4:  4.9671e+00  4.9667e+00  5e-04  5e-06  2e-04\n",
        " 5:  4.9671e+00  4.9671e+00  5e-06  5e-08  2e-06\n",
        " 6:  4.9671e+00  4.9671e+00  5e-08  5e-10  2e-08\n",
        "Optimal solution found.\n"
       ]
      }
     ],
     "prompt_number": 161
    },
    {
     "cell_type": "code",
     "collapsed": false,
     "input": [
      "# Extract optimal value and solution\n",
      "print sol['x'] # [7.13e-07, 5.00e+00]\n",
      "print sol['primal objective'] # 20.0000061731"
     ],
     "language": "python",
     "metadata": {},
     "outputs": [
      {
       "output_type": "stream",
       "stream": "stdout",
       "text": [
        "[ 2.70e+00]\n",
        "[-1.62e+00]\n",
        "[-5.54e+00]\n",
        "\n",
        "4.9671292919\n"
       ]
      }
     ],
     "prompt_number": 162
    },
    {
     "cell_type": "code",
     "collapsed": false,
     "input": [
      "w0, w1, b = sol['x']"
     ],
     "language": "python",
     "metadata": {},
     "outputs": [],
     "prompt_number": 185
    },
    {
     "cell_type": "code",
     "collapsed": false,
     "input": [
      "def classify(x, y):\n",
      "    tmp = w0*x+w1*y+b\n",
      "    if tmp>0:\n",
      "        return 0\n",
      "    else:\n",
      "        return 1\n",
      "\n",
      "v_c = np.vectorize(classify)"
     ],
     "language": "python",
     "metadata": {},
     "outputs": [],
     "prompt_number": 171
    },
    {
     "cell_type": "code",
     "collapsed": false,
     "input": [
      "x = np.linspace(5.5, 10, 500)\n",
      "y = np.linspace(3, 11, 500)\n",
      "xx, yy = np.meshgrid(x, y)\n",
      "label = v_c(xx, yy)"
     ],
     "language": "python",
     "metadata": {},
     "outputs": [],
     "prompt_number": 172
    },
    {
     "cell_type": "code",
     "collapsed": false,
     "input": [
      "# color map\n",
      "color = ['red', 'yellow']\n",
      "my_cmap = matplotlib.colors.ListedColormap(color)\n",
      "\n",
      "width = fruits['width'][choose]\n",
      "height = fruits['height'][choose]\n",
      "colors = ['gold' if i==3 else 'coral' for i in fruits['fruit'][choose].tolist()]\n",
      "\n",
      "plt.figure(figsize=(12, 10))\n",
      "plt.contourf(xx, yy, label, cmap = my_cmap)\n",
      "plt.scatter(width, height, s=80, c = colors)\n",
      "plt.xlim([5.5, 9.])\n",
      "plt.ylim([6,   11])\n",
      "plt.xlabel('Width', fontsize=15)\n",
      "plt.ylabel('Height', fontsize=15)\n",
      "plt.title('Primal SVM on Fruits', fontsize=16)\n",
      "plt.show()"
     ],
     "language": "python",
     "metadata": {},
     "outputs": [
      {
       "metadata": {},
       "output_type": "display_data",
       "png": "[encoded data removed]",
       "text": [
        "<matplotlib.figure.Figure at 0x24611710>"
       ]
      }
     ],
     "prompt_number": 173
    },
    {
     "cell_type": "code",
     "collapsed": false,
     "input": [
      "# compute P\n",
      "tmp0 = np.array(T)*np.array(X).T[0]\n",
      "tmp1 = np.array(T)*np.array(X).T[1]\n",
      "tmp = np.vstack((tmp0,tmp1)).T\n",
      "P_tmp = tmp.dot(tmp.T)"
     ],
     "language": "python",
     "metadata": {},
     "outputs": [],
     "prompt_number": 174
    },
    {
     "cell_type": "code",
     "collapsed": false,
     "input": [
      "# Dual\n",
      "P = matrix(P_tmp, tc='d')\n",
      "q = matrix([-1 for i in xrange(len(T))], tc='d')\n",
      "G = matrix(np.identity(len(T)), tc='d')\n",
      "h = matrix([0 for i in xrange(len(T))], tc='d')\n",
      "A = matrix(np.array(T), tc='d').T\n",
      "b = matrix([1], tc='d')"
     ],
     "language": "python",
     "metadata": {},
     "outputs": [],
     "prompt_number": 175
    },
    {
     "cell_type": "code",
     "collapsed": false,
     "input": [
      "# Construct the QP, invoke solver\n",
      "sol1 = solvers.qp(P,q, G, h, A, b)"
     ],
     "language": "python",
     "metadata": {},
     "outputs": [
      {
       "output_type": "stream",
       "stream": "stdout",
       "text": [
        "     pcost       dcost       gap    pres   dres\n",
        " 0: -3.7333e+00  1.5328e+01  1e+02  1e+01  2e+00\n",
        " 1:  3.5715e+00  1.2936e+01  3e+01  3e+00  6e-01\n",
        " 2:  9.3892e+00  1.8427e+01  2e+01  2e+00  3e-01\n",
        " 3:  1.6769e+01  2.3712e+01  1e+01  7e-01  1e-01\n",
        " 4:  2.5757e+01  2.6371e+01  5e-01  4e-02  7e-03\n",
        " 5:  2.6463e+01  2.6470e+01  5e-03  4e-04  7e-05\n",
        " 6:  2.6471e+01  2.6471e+01  5e-05  4e-06  7e-07\n",
        " 7:  2.6471e+01  2.6471e+01  5e-07  4e-08  7e-09\n",
        "Optimal solution found.\n"
       ]
      }
     ],
     "prompt_number": 176
    },
    {
     "cell_type": "code",
     "collapsed": false,
     "input": [
      "# Extract optimal value and solution\n",
      "print sol1['x'] # [7.13e-07, 5.00e+00]\n",
      "print sol1['primal objective'] # 20.0000061731"
     ],
     "language": "python",
     "metadata": {},
     "outputs": [
      {
       "output_type": "stream",
       "stream": "stdout",
       "text": [
        "[ 5.54e-09]\n",
        "[ 3.17e-10]\n",
        "[ 4.07e-09]\n",
        "[-4.53e-08]\n",
        "[ 4.15e-09]\n",
        "[ 4.23e-09]\n",
        "[ 3.86e-09]\n",
        "[ 4.21e-09]\n",
        "[ 3.98e-09]\n",
        "[ 4.10e-09]\n",
        "[ 3.98e-09]\n",
        "[ 4.46e-09]\n",
        "[ 4.87e-09]\n",
        "[ 4.06e-09]\n",
        "[ 4.07e-09]\n",
        "[ 4.44e-09]\n",
        "[ 4.22e-09]\n",
        "[ 4.11e-09]\n",
        "[-3.90e+00]\n",
        "[ 3.67e-09]\n",
        "[ 2.90e-09]\n",
        "[ 4.36e-09]\n",
        "[ 5.09e-09]\n",
        "[ 5.42e-09]\n",
        "[ 5.40e-09]\n",
        "[ 1.85e-09]\n",
        "[ 3.49e-09]\n",
        "[-4.90e+00]\n",
        "[ 5.32e-09]\n",
        "[ 2.68e-09]\n",
        "[ 2.57e-09]\n",
        "[ 2.70e-09]\n",
        "[ 4.57e-09]\n",
        "[ 2.56e-09]\n",
        "[ 3.86e-09]\n",
        "\n",
        "26.470587514\n"
       ]
      }
     ],
     "prompt_number": 177
    },
    {
     "cell_type": "code",
     "collapsed": false,
     "input": [
      "alpha = np.array(sol1['x'])"
     ],
     "language": "python",
     "metadata": {},
     "outputs": [],
     "prompt_number": 120
    },
    {
     "cell_type": "code",
     "collapsed": false,
     "input": [
      "alpha"
     ],
     "language": "python",
     "metadata": {},
     "outputs": [
      {
       "metadata": {},
       "output_type": "pyout",
       "prompt_number": 146,
       "text": [
        "array([[  5.54199555e-09],\n",
        "       [  3.16881992e-10],\n",
        "       [  4.07032717e-09],\n",
        "       [ -4.53149117e-08],\n",
        "       [  4.14569934e-09],\n",
        "       [  4.23479101e-09],\n",
        "       [  3.85834287e-09],\n",
        "       [  4.21203891e-09],\n",
        "       [  3.97923729e-09],\n",
        "       [  4.09899129e-09],\n",
        "       [  3.97928040e-09],\n",
        "       [  4.46009745e-09],\n",
        "       [  4.86688008e-09],\n",
        "       [  4.06495283e-09],\n",
        "       [  4.07032717e-09],\n",
        "       [  4.43986422e-09],\n",
        "       [  4.21963017e-09],\n",
        "       [  4.11237375e-09],\n",
        "       [ -3.89705882e+00],\n",
        "       [  3.66903861e-09],\n",
        "       [  2.90441672e-09],\n",
        "       [  4.35940216e-09],\n",
        "       [  5.08560012e-09],\n",
        "       [  5.41635255e-09],\n",
        "       [  5.39781545e-09],\n",
        "       [  1.84665234e-09],\n",
        "       [  3.48591631e-09],\n",
        "       [ -4.89705885e+00],\n",
        "       [  5.31845656e-09],\n",
        "       [  2.68471735e-09],\n",
        "       [  2.57251048e-09],\n",
        "       [  2.69619185e-09],\n",
        "       [  4.57071963e-09],\n",
        "       [  2.55951989e-09],\n",
        "       [  3.85708696e-09]])"
       ]
      }
     ],
     "prompt_number": 146
    },
    {
     "cell_type": "code",
     "collapsed": false,
     "input": [
      "support_vector = []\n",
      "for idx, val in enumerate(np.isclose(alpha, 0)):\n",
      "    if not val:\n",
      "        support_vector.append(idx)"
     ],
     "language": "python",
     "metadata": {},
     "outputs": [],
     "prompt_number": 178
    },
    {
     "cell_type": "code",
     "collapsed": false,
     "input": [
      "support_vector"
     ],
     "language": "python",
     "metadata": {},
     "outputs": [
      {
       "metadata": {},
       "output_type": "pyout",
       "prompt_number": 179,
       "text": [
        "[3, 18, 27]"
       ]
      }
     ],
     "prompt_number": 179
    },
    {
     "cell_type": "code",
     "collapsed": false,
     "input": [
      "w0, w1, b = 0.0, 0.0, 0.0\n",
      "for i in xrange(len(T)):\n",
      "    w0 +=T[i]*alpha[i]*X[i][0]\n",
      "    w1 +=T[i]*alpha[i]*X[i][1]\n",
      "    b +=T[i]*alpha[i]"
     ],
     "language": "python",
     "metadata": {},
     "outputs": [],
     "prompt_number": 141
    },
    {
     "cell_type": "code",
     "collapsed": false,
     "input": [
      "w0, w1, b"
     ],
     "language": "python",
     "metadata": {},
     "outputs": [
      {
       "metadata": {},
       "output_type": "pyout",
       "prompt_number": 180,
       "text": [
        "(2.7027027022813384, -1.621621622600455, <1x1 matrix, tc='d'>)"
       ]
      }
     ],
     "prompt_number": 180
    },
    {
     "cell_type": "code",
     "collapsed": false,
     "input": [
      "def classify(x, y):\n",
      "    tmp = w0*x+w1*y+b\n",
      "    if tmp>0:\n",
      "        return 0\n",
      "    else:\n",
      "        return 1\n",
      "\n",
      "v_c = np.vectorize(classify)"
     ],
     "language": "python",
     "metadata": {},
     "outputs": [],
     "prompt_number": 186
    },
    {
     "cell_type": "code",
     "collapsed": false,
     "input": [
      "support_vector = []\n",
      "for i in xrange(len(T)):\n",
      "    if np.isclose(T[i]*(w0*width.tolist()[i]+w1*height.tolist()[i]+b),1):\n",
      "        support_vector.append(i)"
     ],
     "language": "python",
     "metadata": {},
     "outputs": [],
     "prompt_number": 206
    },
    {
     "cell_type": "code",
     "collapsed": false,
     "input": [
      "x = np.linspace(5.5, 9, 500)\n",
      "y = np.linspace(6, 11, 500)\n",
      "xx, yy = np.meshgrid(x, y)\n",
      "label = v_c(xx, yy)"
     ],
     "language": "python",
     "metadata": {},
     "outputs": [],
     "prompt_number": 207
    },
    {
     "cell_type": "code",
     "collapsed": false,
     "input": [
      "size = [180 if i in support_vector else 80 for i in xrange(len(T))]"
     ],
     "language": "python",
     "metadata": {},
     "outputs": [],
     "prompt_number": 208
    },
    {
     "cell_type": "code",
     "collapsed": false,
     "input": [
      "# color map\n",
      "color = ['red', 'yellow']\n",
      "my_cmap = matplotlib.colors.ListedColormap(color)\n",
      "\n",
      "width = fruits['width'][choose]\n",
      "height = fruits['height'][choose]\n",
      "colors = ['gold' if i==3 else 'coral' for i in fruits['fruit'][choose].tolist()]\n",
      "\n",
      "plt.figure(figsize=(12, 10))\n",
      "plt.contourf(xx, yy, label, cmap = my_cmap)\n",
      "plt.scatter(width, height, s=size, c = colors)\n",
      "plt.xlim([5.5, 9.])\n",
      "plt.ylim([6,   11])\n",
      "plt.xlabel('Width', fontsize=15)\n",
      "plt.ylabel('Height', fontsize=15)\n",
      "plt.title('Dual SVM on Fruits', fontsize=16)\n",
      "plt.show()"
     ],
     "language": "python",
     "metadata": {},
     "outputs": [
      {
       "metadata": {},
       "output_type": "display_data",
       "png": "[encoded data removed]",
       "text": [
        "<matplotlib.figure.Figure at 0x248dc9b0>"
       ]
      }
     ],
     "prompt_number": 209
    },
    {
     "cell_type": "code",
     "collapsed": false,
     "input": [],
     "language": "python",
     "metadata": {},
     "outputs": []
    }
   ],
   "metadata": {}
  }
 ]
}